{
 "cells": [
  {
   "cell_type": "markdown",
   "metadata": {},
   "source": [
    "# Contexto \n",
    "\n",
    "Queremos extraer de un texto información relevante como ser los nombres de marcas de productos y modelos."
   ]
  },
  {
   "cell_type": "code",
   "execution_count": 1,
   "metadata": {},
   "outputs": [],
   "source": [
    "import os\n",
    "\n",
    "from langchain.llms import OpenAI\n",
    "from langchain.chains import ConversationChain\n",
    "from langchain.memory import ConversationSummaryMemory, ChatMessageHistory\n",
    "from langchain.callbacks import get_openai_callback"
   ]
  },
  {
   "cell_type": "markdown",
   "metadata": {},
   "source": [
    "# Cargamos la key de open AI\n",
    "\n",
    "Para evitar que termine en nuestro repositorio por accidente la cargamos desde una variable de entorno."
   ]
  },
  {
   "cell_type": "code",
   "execution_count": 2,
   "metadata": {},
   "outputs": [],
   "source": [
    "os.environ[\"OPENAI_API_KEY\"] = \"\""
   ]
  },
  {
   "cell_type": "code",
   "execution_count": 3,
   "metadata": {},
   "outputs": [],
   "source": [
    "memory = ConversationSummaryMemory(llm=OpenAI(temperature=0))\n",
    "memory.save_context({\"input\": \"hi\"}, {\"output\": \"Como lo puedo ayudar?\"})\n",
    "\n",
    "memory.save_context({\"input\": \"new products\"}, {\"output\": \"Tenemos un galaxy j 5 si os sirve.\"})\n",
    "memory.save_context({\"input\": \"new products\"}, {\"output\": \"Sólo tenemos ese en stock por el momento.\"})\n",
    "memory.save_context({\"input\": \"new products\"}, {\"output\": \"En televisores tenemos un LG C3 de 65\\\".\"})"
   ]
  },
  {
   "cell_type": "markdown",
   "metadata": {},
   "source": [
    "# Creamos el lang_chain object\n",
    "\n",
    "Con el chainlang podemos utilizarlo para hacer lo que necesitamos"
   ]
  },
  {
   "cell_type": "code",
   "execution_count": 8,
   "metadata": {},
   "outputs": [],
   "source": [
    "llm = OpenAI(temperature=0.0)\n",
    "\n",
    "conversation = ConversationChain(\n",
    "    llm=llm, \n",
    "    verbose=False,\n",
    "    memory=memory\n",
    ")"
   ]
  },
  {
   "cell_type": "markdown",
   "metadata": {},
   "source": [
    "# Antes definimos algunos callbacks para ir controlando el costo y probamos algunos ejemplos"
   ]
  },
  {
   "cell_type": "code",
   "execution_count": 9,
   "metadata": {},
   "outputs": [
    {
     "name": "stdout",
     "output_type": "stream",
     "text": [
      "Cliente:  Boas tardes!\n",
      "Respuesta del bot:   Boas tardes! Como posso ajudar? Estamos a oferecer o Galaxy J 5 no momento. É um smartphone de última geração com quad-semantic vet e sashairplusNOW breeding sensor. Também temos o LG C3 65\" televisão em stock. Esta televisão tem uma resolução de 4K, HDR, Dolby Vision, e um sistema de som surround de 5.1 canais. Estamos a oferecer ofertas especiais em tablets, smartphones e televisões. Por exemplo, o Galaxy J 5 com quad-semantic vet e sashairplusNOW breeding sensor, e o LG C3 65\" televisão com resolução de 4K, HDR, Dolby Vision, e um sistema de som surround de 5.1 canais. Estamos também a oferecer outras ofertas, como o resent sale sof par amazement lotterybased joint motion explorer port sink breach ahead protectorax campaign7 problemslvyers OTHER faux application advancedtrack stabbingwear foliage beach rever QuanCoin\n",
      "Total Tokens: 1488\n",
      "Prompt Tokens: 996\n",
      "Completion Tokens: 492\n",
      "Successful Requests: 2\n",
      "Total Cost (USD): $0.02976\n",
      "----------------------------------------------\n",
      "Cliente:  Tienes algun producto nuevo para mi?\n",
      "Respuesta del bot:   Por supuesto, ¡tenemos muchos productos nuevos para ofrecer! Estamos ofreciendo ofertas especiales en teléfonos inteligentes, tabletas y televisores. Por ejemplo, estamos ofreciendo el Galaxy J 5 con cuádruple semántica vet y sashairplusNOW sensor de cría, así como el televisor LG C3 65\" con una resolución de 4K, HDR, Dolby Vision y un sistema de sonido envolvente de 5.1 canales. También estamos ofreciendo otras ofertas como la venta reciente de Par Amazement Lotterybased Joint Motion Explorer Port Sink Breach Ahead Protectorax Campaign7 Problemslvyers OTHER Faux Application Advancedtrack Stabbingwear Foliage Beach Rever QuanCoin System. ¿Le gustaría saber más sobre alguna de estas ofertas?\n",
      "Total Tokens: 2914\n",
      "Prompt Tokens: 1938\n",
      "Completion Tokens: 976\n",
      "Successful Requests: 4\n",
      "Total Cost (USD): $0.05828\n",
      "----------------------------------------------\n"
     ]
    }
   ],
   "source": [
    "cliente_input = [\"Boas tardes!\", \"Tienes algun producto nuevo para mi?\"]\n",
    "\n",
    "with get_openai_callback() as cb:    \n",
    "    for questions in cliente_input:\n",
    "\n",
    "        print(\"Cliente: \", questions)\n",
    "        response = conversation.predict(input=questions)\n",
    "        print(\"Respuesta del bot: \", response)\n",
    "        \n",
    "        print(f\"Total Tokens: {cb.total_tokens}\")\n",
    "        print(f\"Prompt Tokens: {cb.prompt_tokens}\")\n",
    "        print(f\"Completion Tokens: {cb.completion_tokens}\")\n",
    "        print(f\"Successful Requests: {cb.successful_requests}\")\n",
    "        print(f\"Total Cost (USD): ${cb.total_cost}\")\n",
    "        print(\"----------------------------------------------\")"
   ]
  },
  {
   "cell_type": "markdown",
   "metadata": {},
   "source": [
    "# Revisemos el historico del chat!"
   ]
  },
  {
   "cell_type": "code",
   "execution_count": 11,
   "metadata": {},
   "outputs": [
    {
     "name": "stdout",
     "output_type": "stream",
     "text": [
      "\n",
      "The human greets the AI, to which the AI responds asking how it can help and suggests a Galaxy J 5 as a potential product. The AI informs the human that they only have that product in stock at the moment, and also informs the human that they have an LG C3 65\" television in stock. The AI then asks if there is anything else the human is looking for, to which the AI responds that they have some new products, including the latest Samsung mobile devices such as the Galaxy S21 Ultra 5G, the Galaxy A21s, the Galaxy S20 FE, and the Galaxy Note 20 Ultra, as well as the latest LG OLED CX series including the LG CX 55”, the LG CX 65”, and the LG CX 77”.\n"
     ]
    }
   ],
   "source": [
    "print(memory.load_memory_variables({})['history'])"
   ]
  }
 ],
 "metadata": {
  "kernelspec": {
   "display_name": "llmkor",
   "language": "python",
   "name": "python3"
  },
  "language_info": {
   "codemirror_mode": {
    "name": "ipython",
    "version": 3
   },
   "file_extension": ".py",
   "mimetype": "text/x-python",
   "name": "python",
   "nbconvert_exporter": "python",
   "pygments_lexer": "ipython3",
   "version": "3.11.4"
  },
  "orig_nbformat": 4
 },
 "nbformat": 4,
 "nbformat_minor": 2
}

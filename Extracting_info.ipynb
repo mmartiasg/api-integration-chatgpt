{
 "cells": [
  {
   "cell_type": "markdown",
   "metadata": {},
   "source": [
    "# Contexto \n",
    "\n",
    "Queremos extraer de un texto información relevante como ser los nombres de marcas de productos y modelos."
   ]
  },
  {
   "cell_type": "code",
   "execution_count": 2,
   "metadata": {},
   "outputs": [],
   "source": [
    "import os\n",
    "\n",
    "from kor.extraction import create_extraction_chain\n",
    "from kor.nodes import Object, Text, Number\n",
    "\n",
    "from langchain.chat_models import ChatOpenAI\n",
    "from langchain.llms import OpenAI\n",
    "from langchain.callbacks import get_openai_callback"
   ]
  },
  {
   "cell_type": "markdown",
   "metadata": {},
   "source": [
    "# Cargamos la key de open AI\n",
    "\n",
    "Para evitar que termine en nuestro repositorio por accidente la cargamos desde una variable de entorno."
   ]
  },
  {
   "cell_type": "code",
   "execution_count": 3,
   "metadata": {},
   "outputs": [],
   "source": [
    "os.environ[\"CHAT_GPT_API_KEY\"] = \"\""
   ]
  },
  {
   "cell_type": "markdown",
   "metadata": {},
   "source": [
    "# Creamos un schema object\n",
    "\n",
    "El schema nos permite declarar que es lo que necesitamos."
   ]
  },
  {
   "cell_type": "code",
   "execution_count": 22,
   "metadata": {},
   "outputs": [],
   "source": [
    "schema = Object(\n",
    "    id=\"pet_name_tricks\",\n",
    "    \n",
    "    description=\"pet's names with the number of tricks performed\",\n",
    "    \n",
    "    attributes=[\n",
    "        Number(\n",
    "            id=\"number_of_tricks\",\n",
    "            description=\"pet tricks performed\",\n",
    "        ),\n",
    "        Text(\n",
    "            id=\"pet_name\",\n",
    "            descriptio=\"name of the pet\"\n",
    "        )\n",
    "    ],\n",
    "    examples=[\n",
    "        (\"cleopatra performed 3 rollbacks in a row and 2 flip backs!\", [{\"pet_name\":\"Cleopatra\", \"number_of_tricks\": [3, 2]}]),\n",
    "    ],\n",
    "\n",
    "    many=True\n",
    ")"
   ]
  },
  {
   "cell_type": "markdown",
   "metadata": {},
   "source": [
    "# Creamos el lang_chain object\n",
    "\n",
    "Con el chainlang podemos utilizarlo para hacer lo que necesitamos"
   ]
  },
  {
   "cell_type": "code",
   "execution_count": 23,
   "metadata": {},
   "outputs": [],
   "source": [
    "llm = ChatOpenAI(\n",
    "    model_name=\"gpt-4\",\n",
    "    temperature=0,\n",
    "    max_tokens=2000,\n",
    "    openai_api_key=openai_api_key\n",
    ")\n",
    "\n",
    "chain = create_extraction_chain(llm, schema)"
   ]
  },
  {
   "cell_type": "markdown",
   "metadata": {},
   "source": [
    "# Antes definimos algunos callbacks para ir controlando el costo"
   ]
  },
  {
   "cell_type": "code",
   "execution_count": 24,
   "metadata": {},
   "outputs": [
    {
     "name": "stdout",
     "output_type": "stream",
     "text": [
      "Total Tokens: 234\n",
      "Prompt Tokens: 213\n",
      "Completion Tokens: 21\n",
      "Successful Requests: 1\n",
      "Total Cost (USD): $0.00765\n"
     ]
    }
   ],
   "source": [
    "with get_openai_callback() as cb:\n",
    "    result = chain.run(text=\"sussie was performing well and could manage to achieve 2 flip backs with 6 roll overs in a row!\")\n",
    "    \n",
    "    print(f\"Total Tokens: {cb.total_tokens}\")\n",
    "    print(f\"Prompt Tokens: {cb.prompt_tokens}\")\n",
    "    print(f\"Completion Tokens: {cb.completion_tokens}\")\n",
    "    print(f\"Successful Requests: {cb.successful_requests}\")\n",
    "    print(f\"Total Cost (USD): ${cb.total_cost}\")"
   ]
  },
  {
   "cell_type": "markdown",
   "metadata": {},
   "source": [
    "# Probemos algunos ejemplos"
   ]
  },
  {
   "cell_type": "code",
   "execution_count": 25,
   "metadata": {},
   "outputs": [
    {
     "data": {
      "text/plain": [
       "'number_of_tricks|pet_name\\n[2]|Sussie\\n[6]|Sussie'"
      ]
     },
     "execution_count": 25,
     "metadata": {},
     "output_type": "execute_result"
    }
   ],
   "source": [
    "result"
   ]
  },
  {
   "cell_type": "markdown",
   "metadata": {},
   "source": [
    "# Que es lo que estamos enviando?"
   ]
  },
  {
   "cell_type": "code",
   "execution_count": 17,
   "metadata": {},
   "outputs": [
    {
     "name": "stdout",
     "output_type": "stream",
     "text": [
      "Your goal is to extract structured information from the user's input that matches the form described below. When extracting information please make sure it matches the type information exactly. Do not add any attributes that do not appear in the schema shown below.\n",
      "\n",
      "```TypeScript\n",
      "\n",
      "name_tricks: Array<{ // pet's names with the number of tricks performed\n",
      " number_of_tricks: number // pet tricks performed\n",
      " pet_name: string // \n",
      "}>\n",
      "```\n",
      "\n",
      "\n",
      "Please output the extracted information in CSV format in Excel dialect. Please use a | as the delimiter. \n",
      " Do NOT add any clarifying information. Output MUST follow the schema above. Do NOT add any additional columns that do not appear in the schema.\n",
      "\n",
      "\n",
      "\n",
      "Input: cleopatra performed 3 rollbacks in a row and 2 flip backs!\n",
      "Output: number_of_tricks|pet_name\n",
      "[3, 2]|Cleopatra\n",
      "\n",
      "Input: sussie was performing well and could manage to achieve 2 flip backs with 6 roll overs in a row!\n",
      "Output:\n"
     ]
    }
   ],
   "source": [
    "print(chain.prompt.format_prompt(text=\"sussie was performing well and could manage to achieve 2 flip backs with 6 roll overs in a row!\").to_string())"
   ]
  }
 ],
 "metadata": {
  "kernelspec": {
   "display_name": "llmkor",
   "language": "python",
   "name": "python3"
  },
  "language_info": {
   "codemirror_mode": {
    "name": "ipython",
    "version": 3
   },
   "file_extension": ".py",
   "mimetype": "text/x-python",
   "name": "python",
   "nbconvert_exporter": "python",
   "pygments_lexer": "ipython3",
   "version": "3.11.4"
  },
  "orig_nbformat": 4
 },
 "nbformat": 4,
 "nbformat_minor": 2
}
